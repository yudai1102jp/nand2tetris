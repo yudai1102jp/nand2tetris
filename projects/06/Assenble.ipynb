{
 "cells": [
  {
   "cell_type": "code",
   "execution_count": 87,
   "metadata": {},
   "outputs": [],
   "source": [
    "from pathlib import Path\n",
    "import sys\n",
    "\n",
    "\n",
    "def get_path():\n",
    "    cwd = Path(__file__).resolve().parent\n",
    "    asm=sys.argv[1]\n",
    "    asm_absolute_path=cwd/asm\n",
    "    if asm_absolute_path.is_file():\n",
    "        return asm_absolute_path\n",
    "    raise Exception\n",
    "\n",
    "\n"
   ]
  },
  {
   "cell_type": "code",
   "execution_count": null,
   "metadata": {},
   "outputs": [],
   "source": []
  },
  {
   "cell_type": "code",
   "execution_count": 144,
   "metadata": {},
   "outputs": [],
   "source": [
    "class Parser:\n",
    "    def __init__(self, path) -> None:\n",
    "        self.asm_text=[]\n",
    "        with open(path, mode='r') as f:\n",
    "            while txt := f.readline().replace(' ', ''):\n",
    "                txt = txt.replace('\\n', '')\n",
    "                if not txt:\n",
    "                    continue\n",
    "                if txt[0:2]=='//':\n",
    "                    continue\n",
    "                if txt.find('//')>=0:\n",
    "                    txt = txt[:txt.find('//')]\n",
    "\n",
    "\n",
    "                self.asm_text.append(txt)\n",
    "\n",
    "\n",
    "        \n",
    "        self.next_line_index=0\n",
    "        self.now_line=None\n",
    "\n",
    "    def hasMoreCommands(self) -> bool:\n",
    "        return True if self.next_line_index < len(self.asm_text) else False\n",
    "\n",
    "    def advance(self):\n",
    "        self.now_line = self.asm_text[self.next_line_index]\n",
    "        self.next_line_index+=1\n",
    "    \n",
    "    def commandType(self):\n",
    "        if self.now_line[0]=='@':\n",
    "            self.symbol = self.now_line[1:]\n",
    "            return 'A_COMMAND'\n",
    "        elif '=' in self.now_line or ';' in self.now_line:\n",
    "            if '=' not in self.now_line:\n",
    "                self.now_line = '='+self.now_line\n",
    "            \n",
    "            if ';' not in self.now_line:\n",
    "                self.now_line = self.now_line+';'\n",
    "\n",
    "        \n",
    "            spliteq= self.now_line.split('=')\n",
    "            self.dest = spliteq[0]\n",
    "            # print(self.now_line)\n",
    "            self.comp, self.jump = spliteq[1].split(';')\n",
    "        \n",
    "            return 'C_COMMAND'\n",
    "        elif self.now_line[0] == '(' and self.now_line[-1] == ')' and self.now_line[1].isupper():\n",
    "            self.symbol = self.now_line[1:-1]\n",
    "            return 'L_COMMAND'\n",
    "        else:\n",
    "            raise Exception\n"
   ]
  },
  {
   "cell_type": "code",
   "execution_count": 145,
   "metadata": {},
   "outputs": [],
   "source": [
    "class Code:\n",
    "    def __init__(self, parse) -> None:\n",
    "        self.parser=parse\n",
    "        \n",
    "    def dest(self):\n",
    "        str=self.parser.dest\n",
    "        d1=0\n",
    "        d2=0\n",
    "        d3=0\n",
    "        if 'A' in str:\n",
    "            d1=1\n",
    "        \n",
    "        if 'D' in str:\n",
    "            d2=1\n",
    "        \n",
    "        if 'M' in str:\n",
    "            d3=1\n",
    "        return f'{d1}{d2}{d3}'\n",
    "        \n",
    "    def comp(self):\n",
    "        str = self.parser.comp\n",
    "\n",
    "        a='0'\n",
    "\n",
    "        if 'M' in str:\n",
    "            a='1'\n",
    "            str=str.replace('M','A')\n",
    "        if '0'==str:\n",
    "            return a+'101010'\n",
    "        if '1'==str:\n",
    "            return a+'111111'\n",
    "        \n",
    "        if '-1'==str:\n",
    "            return a+'111010'\n",
    "        if 'D'==str:\n",
    "            return a+'001100'\n",
    "        if 'A'==str:\n",
    "            return a+'110000'\n",
    "        \n",
    "        if '!D'==str:\n",
    "            return a+'001101'\n",
    "        if '!A'==str:\n",
    "            return a+'110001'\n",
    "\n",
    "\n",
    "        if '-D'==str:\n",
    "            return a+'001111'\n",
    "        if '-A'==str:\n",
    "            return a+'110011'\n",
    "        \n",
    "        if 'D+1'==str:\n",
    "            return a+'011111'\n",
    "        \n",
    "        if 'A+1'==str:\n",
    "            return a+'110111'\n",
    "\n",
    "        if 'D-1'==str:\n",
    "            return a+'001110'\n",
    "\n",
    "        if 'A-1'==str:\n",
    "            return a+'110010'\n",
    "\n",
    "\n",
    "\n",
    "\n",
    "\n",
    "        if 'D+A'==str:\n",
    "            return a+'000010'\n",
    "        if 'D-A'==str:\n",
    "            return a+'010011'\n",
    "        if 'A-D'==str:\n",
    "            return a+'000111'\n",
    "        if 'D&A'==str:\n",
    "            return a+'000000'\n",
    "        if 'D|A'==str:\n",
    "            return a+'010101'\n",
    "        raise Exception\n",
    "\n",
    "    def jump(self):\n",
    "        str = self.parser.jump\n",
    "\n",
    "        if str=='':\n",
    "            return '000'\n",
    "        if str=='JGT':\n",
    "            return '001'\n",
    "        if str=='JEQ':\n",
    "            return '010'\n",
    "        if str=='JGE':\n",
    "            return '011'\n",
    "        if str=='JLT':\n",
    "            return '100'\n",
    "        if str=='JNE':\n",
    "            return '101'\n",
    "        if str=='JLE':\n",
    "            return '110'\n",
    "        if str=='JMP':\n",
    "            return '111'\n",
    "        raise Exception\n",
    "\n",
    "            "
   ]
  },
  {
   "cell_type": "code",
   "execution_count": 146,
   "metadata": {},
   "outputs": [],
   "source": [
    "class SymbolTable:\n",
    "    def __init__(self) -> None:\n",
    "        self.table={}\n",
    "        self.table['SP']=0x0000\n",
    "        self.table['LCL']=0x0001\n",
    "        self.table['ARG']=0x0002\n",
    "        self.table['THIS']=0x0003\n",
    "        self.table['THAT']=0x0004\n",
    "        for i in range(16):\n",
    "            self.table[f'R{i}'] = i\n",
    "        self.table['SCREEN']=0x4000\n",
    "        self.table['KBD']=0x6000\n",
    "        self.next_add=16\n",
    "    def addEntry(self,symbol, address):\n",
    "        self.table[symbol]=address\n",
    "    def add(self, symbol):\n",
    "        self.table[symbol]=self.next_add\n",
    "        self.next_add+=1\n",
    "    def contains(self, symbol):\n",
    "        return symbol in self.table\n",
    "    def getAddress(self, symbol):\n",
    "        return self.table[symbol]"
   ]
  },
  {
   "cell_type": "code",
   "execution_count": 147,
   "metadata": {},
   "outputs": [
    {
     "data": {
      "text/plain": [
       "4"
      ]
     },
     "execution_count": 147,
     "metadata": {},
     "output_type": "execute_result"
    }
   ],
   "source": []
  },
  {
   "cell_type": "code",
   "execution_count": 148,
   "metadata": {},
   "outputs": [],
   "source": []
  },
  {
   "cell_type": "code",
   "execution_count": 149,
   "metadata": {},
   "outputs": [
    {
     "name": "stdout",
     "output_type": "stream",
     "text": [
      "['@2', 'D=A', '@3', 'D=D+A', '@0', 'M=D']\n",
      "2\n",
      "3\n",
      "0\n"
     ]
    }
   ],
   "source": []
  },
  {
   "cell_type": "code",
   "execution_count": 170,
   "metadata": {},
   "outputs": [],
   "source": [
    "def main():\n",
    "    # path=get_path()\n",
    "    path = Path('/Users/yudai/Documents/nand2tetris/projects/06/max/Max.asm')\n",
    "    parser = Parser(path)\n",
    "    print(parser.asm_text)\n",
    "    code = Code(parser)\n",
    "    sym=SymbolTable()\n",
    "    \n",
    "    next_address=0\n",
    "    while parser.hasMoreCommands():\n",
    "        parser.advance()\n",
    "        command_type = parser.commandType()\n",
    "        \n",
    "        if command_type == 'A_COMMAND':\n",
    "            next_address += 1\n",
    "        elif command_type == 'C_COMMAND':\n",
    "            next_address += 1\n",
    "        elif command_type == 'L_COMMAND':\n",
    "            if not sym.contains(parser.symbol):\n",
    "                sym.addEntry(parser.symbol, next_address)\n",
    "\n",
    "\n",
    "            \n",
    "\n",
    "\n",
    "\n",
    "    hack_path = path.with_suffix('.hack')\n",
    "    parser.next_line_index = 0\n",
    "    parser.now_line=None\n",
    "    with open(hack_path, mode='w') as f:\n",
    "        while parser.hasMoreCommands():\n",
    "            parser.advance()\n",
    "            command_type = parser.commandType()\n",
    "\n",
    "            \n",
    "\n",
    "\n",
    "            if command_type == 'A_COMMAND':\n",
    "                if not parser.symbol.isdecimal():\n",
    "                    if not sym.contains(parser.symbol):\n",
    "                        sym.add(parser.symbol)\n",
    "                    parser.symbol = sym.getAddress(parser.symbol)\n",
    "                print(parser.symbol)\n",
    "                f.write(f'0{int(parser.symbol):015b}\\n')\n",
    "            elif command_type == 'C_COMMAND':\n",
    "                f.write(f'111{code.comp()}{code.dest()}{code.jump()}\\n')\n",
    "            "
   ]
  },
  {
   "cell_type": "code",
   "execution_count": 171,
   "metadata": {},
   "outputs": [
    {
     "name": "stdout",
     "output_type": "stream",
     "text": [
      "['@R0', 'D=M', '@R1', 'D=D-M', '@OUTPUT_FIRST', 'D;JGT', '@R1', 'D=M', '@OUTPUT_D', '0;JMP', '(OUTPUT_FIRST)', '@R0', 'D=M', '(OUTPUT_D)', '@R2', 'M=D', '(INFINITE_LOOP)', '@INFINITE_LOOP', '0;JMP']\n",
      "0\n",
      "1\n",
      "10\n",
      "1\n",
      "12\n",
      "0\n",
      "2\n",
      "14\n"
     ]
    }
   ],
   "source": [
    "main()\n"
   ]
  },
  {
   "cell_type": "code",
   "execution_count": 110,
   "metadata": {},
   "outputs": [
    {
     "data": {
      "text/plain": [
       "'D=MD=firstnumbe'"
      ]
     },
     "execution_count": 110,
     "metadata": {},
     "output_type": "execute_result"
    }
   ],
   "source": []
  },
  {
   "cell_type": "code",
   "execution_count": 111,
   "metadata": {},
   "outputs": [
    {
     "data": {
      "text/plain": [
       "-1"
      ]
     },
     "execution_count": 111,
     "metadata": {},
     "output_type": "execute_result"
    }
   ],
   "source": []
  },
  {
   "cell_type": "code",
   "execution_count": null,
   "metadata": {},
   "outputs": [],
   "source": []
  }
 ],
 "metadata": {
  "kernelspec": {
   "display_name": "Python 3.9.13 64-bit",
   "language": "python",
   "name": "python3"
  },
  "language_info": {
   "codemirror_mode": {
    "name": "ipython",
    "version": 3
   },
   "file_extension": ".py",
   "mimetype": "text/x-python",
   "name": "python",
   "nbconvert_exporter": "python",
   "pygments_lexer": "ipython3",
   "version": "3.9.13"
  },
  "orig_nbformat": 4,
  "vscode": {
   "interpreter": {
    "hash": "aee8b7b246df8f9039afb4144a1f6fd8d2ca17a180786b69acc140d282b71a49"
   }
  }
 },
 "nbformat": 4,
 "nbformat_minor": 2
}
