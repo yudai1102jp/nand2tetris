{
 "cells": [
  {
   "cell_type": "code",
   "execution_count": 4,
   "metadata": {},
   "outputs": [
    {
     "name": "stdout",
     "output_type": "stream",
     "text": [
      "    Bit(in = in , load=sel0, out=out0)\n",
      "    Bit(in = in , load=sel1, out=out1)\n",
      "    Bit(in = in , load=sel2, out=out2)\n",
      "    Bit(in = in , load=sel3, out=out3)\n",
      "    Bit(in = in , load=sel4, out=out4)\n",
      "    Bit(in = in , load=sel5, out=out5)\n",
      "    Bit(in = in , load=sel6, out=out6)\n",
      "    Bit(in = in , load=sel7, out=out7)\n"
     ]
    }
   ],
   "source": [
    "for i in range(8):\n",
    "    print(f'    Bit(in = in , load=sel{i}, out=out{i})')\n",
    "\n"
   ]
  },
  {
   "cell_type": "code",
   "execution_count": 15,
   "metadata": {},
   "outputs": [
    {
     "name": "stdout",
     "output_type": "stream",
     "text": [
      "/Users/yudai/Documents/nand2tetris/projects/03/a/RAM512.hdl\n",
      "/Users/yudai/Documents/nand2tetris/projects/03/a/PC.hdl\n",
      "/Users/yudai/Documents/nand2tetris/projects/03/a/RAM64.hdl\n",
      "/Users/yudai/Documents/nand2tetris/projects/03/a/RAM4K.hdl\n",
      "/Users/yudai/Documents/nand2tetris/projects/03/a/RAM16K.hdl\n",
      "/Users/yudai/Documents/nand2tetris/projects/03/a/RAM8.hdl\n",
      "/Users/yudai/Documents/nand2tetris/projects/03/a/Bit.hdl\n",
      "/Users/yudai/Documents/nand2tetris/projects/03/a/Register.hdl\n",
      "/Users/yudai/Documents/nand2tetris/projects/02/HalfAdder.hdl\n",
      "/Users/yudai/Documents/nand2tetris/projects/02/ALU.hdl\n",
      "/Users/yudai/Documents/nand2tetris/projects/02/FullAdder.hdl\n",
      "/Users/yudai/Documents/nand2tetris/projects/02/Inc16.hdl\n",
      "/Users/yudai/Documents/nand2tetris/projects/02/Add16.hdl\n",
      "/Users/yudai/Documents/nand2tetris/projects/01/Mux.hdl\n",
      "/Users/yudai/Documents/nand2tetris/projects/01/Not16.hdl\n",
      "/Users/yudai/Documents/nand2tetris/projects/01/Mux4Way16.hdl\n",
      "/Users/yudai/Documents/nand2tetris/projects/01/DMux4Way.hdl\n",
      "/Users/yudai/Documents/nand2tetris/projects/01/DMux8Way.hdl\n",
      "/Users/yudai/Documents/nand2tetris/projects/01/DMux.hdl\n",
      "/Users/yudai/Documents/nand2tetris/projects/01/Mux8Way16.hdl\n",
      "/Users/yudai/Documents/nand2tetris/projects/01/Not.hdl\n",
      "/Users/yudai/Documents/nand2tetris/projects/01/Or16.hdl\n",
      "/Users/yudai/Documents/nand2tetris/projects/01/Or8Way.hdl\n",
      "/Users/yudai/Documents/nand2tetris/projects/01/Or.hdl\n",
      "/Users/yudai/Documents/nand2tetris/projects/01/Mux16.hdl\n",
      "/Users/yudai/Documents/nand2tetris/projects/01/And16.hdl\n",
      "/Users/yudai/Documents/nand2tetris/projects/01/Xor.hdl\n",
      "/Users/yudai/Documents/nand2tetris/projects/01/And.hdl\n"
     ]
    }
   ],
   "source": [
    "from pathlib import Path\n",
    "import shutil\n",
    "\n",
    "def file_iter(path_str):\n",
    "    p=Path(path_str)\n",
    "    li=[]\n",
    "    for ch in p.iterdir():\n",
    "        if Path(ch).is_dir():\n",
    "            li=li+  file_iter(ch)\n",
    "        # print(Path(ch).suffix)\n",
    "        if Path(ch).suffix == '.hdl':\n",
    "            li.append(ch)\n",
    "    return li\n",
    "\n",
    "pfolder=Path('/Users/yudai/Documents/nand2tetris/projects')\n",
    "tofolder=pfolder/'all'\n",
    "move_folder=['01','02', '03']\n",
    "for num_f in pfolder.iterdir():\n",
    "    # print((num_f.name))\n",
    "    if num_f.name not in move_folder:\n",
    "        continue\n",
    "    for num_f2 in file_iter(num_f):\n",
    "        print(num_f2)\n",
    "        shutil.copy(num_f2, tofolder)\n",
    "        "
   ]
  },
  {
   "cell_type": "code",
   "execution_count": 23,
   "metadata": {},
   "outputs": [
    {
     "name": "stdout",
     "output_type": "stream",
     "text": [
      "out[11]=c1, out[10]=c2, out[9]=c3, out[8]=c4, out[7]=c5, out[6]=c6, "
     ]
    }
   ],
   "source": [
    "now=1\n",
    "while now <=6:\n",
    "    print(f'out[{12-now}]=c{now}, ', end='')\n",
    "    now+=1\n"
   ]
  },
  {
   "cell_type": "code",
   "execution_count": null,
   "metadata": {},
   "outputs": [],
   "source": []
  }
 ],
 "metadata": {
  "kernelspec": {
   "display_name": "Python 3.9.13 64-bit",
   "language": "python",
   "name": "python3"
  },
  "language_info": {
   "codemirror_mode": {
    "name": "ipython",
    "version": 3
   },
   "file_extension": ".py",
   "mimetype": "text/x-python",
   "name": "python",
   "nbconvert_exporter": "python",
   "pygments_lexer": "ipython3",
   "version": "3.9.13"
  },
  "orig_nbformat": 4,
  "vscode": {
   "interpreter": {
    "hash": "aee8b7b246df8f9039afb4144a1f6fd8d2ca17a180786b69acc140d282b71a49"
   }
  }
 },
 "nbformat": 4,
 "nbformat_minor": 2
}
