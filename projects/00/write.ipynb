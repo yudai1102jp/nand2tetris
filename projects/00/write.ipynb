{
 "cells": [
  {
   "cell_type": "code",
   "execution_count": 4,
   "metadata": {},
   "outputs": [
    {
     "name": "stdout",
     "output_type": "stream",
     "text": [
      "    Bit(in = in , load=sel0, out=out0)\n",
      "    Bit(in = in , load=sel1, out=out1)\n",
      "    Bit(in = in , load=sel2, out=out2)\n",
      "    Bit(in = in , load=sel3, out=out3)\n",
      "    Bit(in = in , load=sel4, out=out4)\n",
      "    Bit(in = in , load=sel5, out=out5)\n",
      "    Bit(in = in , load=sel6, out=out6)\n",
      "    Bit(in = in , load=sel7, out=out7)\n"
     ]
    }
   ],
   "source": [
    "for i in range(8):\n",
    "    print(f'    Bit(in = in , load=sel{i}, out=out{i})')\n",
    "\n"
   ]
  },
  {
   "cell_type": "code",
   "execution_count": null,
   "metadata": {},
   "outputs": [],
   "source": []
  }
 ],
 "metadata": {
  "kernelspec": {
   "display_name": "Python 3.9.13 64-bit",
   "language": "python",
   "name": "python3"
  },
  "language_info": {
   "codemirror_mode": {
    "name": "ipython",
    "version": 3
   },
   "file_extension": ".py",
   "mimetype": "text/x-python",
   "name": "python",
   "nbconvert_exporter": "python",
   "pygments_lexer": "ipython3",
   "version": "3.9.13"
  },
  "orig_nbformat": 4,
  "vscode": {
   "interpreter": {
    "hash": "aee8b7b246df8f9039afb4144a1f6fd8d2ca17a180786b69acc140d282b71a49"
   }
  }
 },
 "nbformat": 4,
 "nbformat_minor": 2
}
