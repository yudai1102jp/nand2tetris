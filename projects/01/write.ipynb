{
 "cells": [
  {
   "cell_type": "code",
   "execution_count": 1,
   "metadata": {},
   "outputs": [
    {
     "name": "stdout",
     "output_type": "stream",
     "text": [
      "Or(a=a[0], b=b0, out=b1);\n",
      "Or(a=a[1], b=b1, out=b2);\n",
      "Or(a=a[2], b=b2, out=b3);\n",
      "Or(a=a[3], b=b3, out=b4);\n",
      "Or(a=a[4], b=b4, out=b5);\n",
      "Or(a=a[5], b=b5, out=b6);\n",
      "Or(a=a[6], b=b6, out=b7);\n",
      "Or(a=a[7], b=b7, out=b8);\n",
      "Or(a=a[8], b=b8, out=b9);\n",
      "Or(a=a[9], b=b9, out=b10);\n",
      "Or(a=a[10], b=b10, out=b11);\n",
      "Or(a=a[11], b=b11, out=b12);\n",
      "Or(a=a[12], b=b12, out=b13);\n",
      "Or(a=a[13], b=b13, out=b14);\n",
      "Or(a=a[14], b=b14, out=b15);\n",
      "Or(a=a[15], b=b15, out=b16);\n"
     ]
    }
   ],
   "source": [
    "for i in range(16):\n",
    "    print(f'Or(a=a[{i}], b=b[{i}], out=out[{i}]);')\n"
   ]
  },
  {
   "cell_type": "code",
   "execution_count": null,
   "metadata": {},
   "outputs": [],
   "source": []
  }
 ],
 "metadata": {
  "kernelspec": {
   "display_name": "Python 3.9.13 64-bit",
   "language": "python",
   "name": "python3"
  },
  "language_info": {
   "codemirror_mode": {
    "name": "ipython",
    "version": 3
   },
   "file_extension": ".py",
   "mimetype": "text/x-python",
   "name": "python",
   "nbconvert_exporter": "python",
   "pygments_lexer": "ipython3",
   "version": "3.9.13"
  },
  "orig_nbformat": 4,
  "vscode": {
   "interpreter": {
    "hash": "aee8b7b246df8f9039afb4144a1f6fd8d2ca17a180786b69acc140d282b71a49"
   }
  }
 },
 "nbformat": 4,
 "nbformat_minor": 2
}
